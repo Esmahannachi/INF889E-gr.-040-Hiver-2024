{
  "nbformat": 4,
  "nbformat_minor": 0,
  "metadata": {
    "colab": {
      "provenance": []
    },
    "kernelspec": {
      "name": "python3",
      "display_name": "Python 3"
    },
    "language_info": {
      "name": "python"
    }
  },
  "cells": [
    {
      "cell_type": "code",
      "execution_count": null,
      "metadata": {
        "colab": {
          "base_uri": "https://localhost:8080/"
        },
        "id": "PaMyo75hMQcn",
        "outputId": "55798ea7-318d-4883-9a61-68b7d6fc16af"
      },
      "outputs": [
        {
          "output_type": "stream",
          "name": "stdout",
          "text": [
            "Requirement already satisfied: lightgbm in /usr/local/lib/python3.10/dist-packages (4.1.0)\n",
            "Requirement already satisfied: numpy in /usr/local/lib/python3.10/dist-packages (from lightgbm) (1.25.2)\n",
            "Requirement already satisfied: scipy in /usr/local/lib/python3.10/dist-packages (from lightgbm) (1.11.4)\n"
          ]
        }
      ],
      "source": [
        "!pip install lightgbm"
      ]
    },
    {
      "cell_type": "code",
      "source": [
        "!pip install catboost"
      ],
      "metadata": {
        "colab": {
          "base_uri": "https://localhost:8080/"
        },
        "id": "z1AmKAEoMsfS",
        "outputId": "f54c6e17-f763-4002-e0e9-5f57cf76825e"
      },
      "execution_count": null,
      "outputs": [
        {
          "output_type": "stream",
          "name": "stdout",
          "text": [
            "Collecting catboost\n",
            "  Downloading catboost-1.2.5-cp310-cp310-manylinux2014_x86_64.whl (98.2 MB)\n",
            "\u001b[2K     \u001b[90m━━━━━━━━━━━━━━━━━━━━━━━━━━━━━━━━━━━━━━━━\u001b[0m \u001b[32m98.2/98.2 MB\u001b[0m \u001b[31m7.6 MB/s\u001b[0m eta \u001b[36m0:00:00\u001b[0m\n",
            "\u001b[?25hRequirement already satisfied: graphviz in /usr/local/lib/python3.10/dist-packages (from catboost) (0.20.3)\n",
            "Requirement already satisfied: matplotlib in /usr/local/lib/python3.10/dist-packages (from catboost) (3.7.1)\n",
            "Requirement already satisfied: numpy>=1.16.0 in /usr/local/lib/python3.10/dist-packages (from catboost) (1.25.2)\n",
            "Requirement already satisfied: pandas>=0.24 in /usr/local/lib/python3.10/dist-packages (from catboost) (2.0.3)\n",
            "Requirement already satisfied: scipy in /usr/local/lib/python3.10/dist-packages (from catboost) (1.11.4)\n",
            "Requirement already satisfied: plotly in /usr/local/lib/python3.10/dist-packages (from catboost) (5.15.0)\n",
            "Requirement already satisfied: six in /usr/local/lib/python3.10/dist-packages (from catboost) (1.16.0)\n",
            "Requirement already satisfied: python-dateutil>=2.8.2 in /usr/local/lib/python3.10/dist-packages (from pandas>=0.24->catboost) (2.8.2)\n",
            "Requirement already satisfied: pytz>=2020.1 in /usr/local/lib/python3.10/dist-packages (from pandas>=0.24->catboost) (2023.4)\n",
            "Requirement already satisfied: tzdata>=2022.1 in /usr/local/lib/python3.10/dist-packages (from pandas>=0.24->catboost) (2024.1)\n",
            "Requirement already satisfied: contourpy>=1.0.1 in /usr/local/lib/python3.10/dist-packages (from matplotlib->catboost) (1.2.1)\n",
            "Requirement already satisfied: cycler>=0.10 in /usr/local/lib/python3.10/dist-packages (from matplotlib->catboost) (0.12.1)\n",
            "Requirement already satisfied: fonttools>=4.22.0 in /usr/local/lib/python3.10/dist-packages (from matplotlib->catboost) (4.51.0)\n",
            "Requirement already satisfied: kiwisolver>=1.0.1 in /usr/local/lib/python3.10/dist-packages (from matplotlib->catboost) (1.4.5)\n",
            "Requirement already satisfied: packaging>=20.0 in /usr/local/lib/python3.10/dist-packages (from matplotlib->catboost) (24.0)\n",
            "Requirement already satisfied: pillow>=6.2.0 in /usr/local/lib/python3.10/dist-packages (from matplotlib->catboost) (9.4.0)\n",
            "Requirement already satisfied: pyparsing>=2.3.1 in /usr/local/lib/python3.10/dist-packages (from matplotlib->catboost) (3.1.2)\n",
            "Requirement already satisfied: tenacity>=6.2.0 in /usr/local/lib/python3.10/dist-packages (from plotly->catboost) (8.2.3)\n",
            "Installing collected packages: catboost\n",
            "Successfully installed catboost-1.2.5\n"
          ]
        }
      ]
    },
    {
      "cell_type": "code",
      "source": [
        "!pip install scikit-learn"
      ],
      "metadata": {
        "colab": {
          "base_uri": "https://localhost:8080/"
        },
        "id": "5-cB6g6bM0c5",
        "outputId": "ad1c1788-8519-4d01-ed2a-6aa8bb0efdf1"
      },
      "execution_count": null,
      "outputs": [
        {
          "output_type": "stream",
          "name": "stdout",
          "text": [
            "Requirement already satisfied: scikit-learn in /usr/local/lib/python3.10/dist-packages (1.2.2)\n",
            "Requirement already satisfied: numpy>=1.17.3 in /usr/local/lib/python3.10/dist-packages (from scikit-learn) (1.25.2)\n",
            "Requirement already satisfied: scipy>=1.3.2 in /usr/local/lib/python3.10/dist-packages (from scikit-learn) (1.11.4)\n",
            "Requirement already satisfied: joblib>=1.1.1 in /usr/local/lib/python3.10/dist-packages (from scikit-learn) (1.4.0)\n",
            "Requirement already satisfied: threadpoolctl>=2.0.0 in /usr/local/lib/python3.10/dist-packages (from scikit-learn) (3.4.0)\n"
          ]
        }
      ]
    },
    {
      "cell_type": "code",
      "source": [
        "!pip install sklearn_relief"
      ],
      "metadata": {
        "colab": {
          "base_uri": "https://localhost:8080/"
        },
        "id": "lTtaPbX9NBm0",
        "outputId": "9092d11f-6c04-4e2b-cfb0-94a01b214fc5"
      },
      "execution_count": null,
      "outputs": [
        {
          "output_type": "stream",
          "name": "stdout",
          "text": [
            "Collecting sklearn_relief\n",
            "  Downloading sklearn_relief-1.0.0b2-py3-none-any.whl (8.7 kB)\n",
            "Requirement already satisfied: numpy>=1.13.3 in /usr/local/lib/python3.10/dist-packages (from sklearn_relief) (1.25.2)\n",
            "Requirement already satisfied: scipy>=1.0.0 in /usr/local/lib/python3.10/dist-packages (from sklearn_relief) (1.11.4)\n",
            "Requirement already satisfied: scikit-learn>=0.19.1 in /usr/local/lib/python3.10/dist-packages (from sklearn_relief) (1.2.2)\n",
            "Requirement already satisfied: joblib>=1.1.1 in /usr/local/lib/python3.10/dist-packages (from scikit-learn>=0.19.1->sklearn_relief) (1.4.0)\n",
            "Requirement already satisfied: threadpoolctl>=2.0.0 in /usr/local/lib/python3.10/dist-packages (from scikit-learn>=0.19.1->sklearn_relief) (3.4.0)\n",
            "Installing collected packages: sklearn_relief\n",
            "Successfully installed sklearn_relief-1.0.0b2\n"
          ]
        }
      ]
    },
    {
      "cell_type": "code",
      "source": [
        "# Import des bibliothèques nécessaires\n",
        "from scipy import interp  # Pour l'interpolation\n",
        "from sklearn.metrics import (  # Pour diverses métriques d'évaluation\n",
        "    roc_curve, auc, confusion_matrix, precision_score, recall_score, f1_score,\n",
        "    accuracy_score, roc_auc_score\n",
        ")\n",
        "from sklearn.linear_model import ElasticNet, LogisticRegression, RidgeClassifier, SGDClassifier  # Différents classificateurs linéaires\n",
        "from sklearn.preprocessing import MinMaxScaler  # Pour la mise à l'échelle des caractéristiques\n",
        "from sklearn.tree import DecisionTreeClassifier  # Classificateur Arbre de Décision\n",
        "from sklearn.svm import SVC  # Classificateur Vecteur de Support\n",
        "from sklearn.discriminant_analysis import LinearDiscriminantAnalysis  # Classificateur Analyse Discriminante Linéaire\n",
        "from sklearn.ensemble import (  # Classificateurs ensemblistes\n",
        "    RandomForestClassifier, ExtraTreesClassifier, GradientBoostingClassifier,\n",
        "    BaggingClassifier, VotingClassifier\n",
        ")\n",
        "from sklearn.naive_bayes import GaussianNB, MultinomialNB  # Classificateurs Naïve Bayes\n",
        "from sklearn.neighbors import KNeighborsClassifier  # Classificateur K plus proches voisins\n",
        "from sklearn.metrics import confusion_matrix  # Calcul de la matrice de confusion\n",
        "from sklearn.model_selection import (  # Pour la validation croisée et le fractionnement train-test\n",
        "    train_test_split, cross_val_score, StratifiedKFold, cross_val_predict\n",
        ")\n",
        "from sklearn.feature_selection import (  # Méthodes de sélection de caractéristiques\n",
        "    SelectKBest, chi2, f_classif, mutual_info_classif, SelectFromModel\n",
        ")\n",
        "import lightgbm as lgb  # Classificateur LightGBM\n",
        "import catboost as cb  # Classificateur CatBoost\n",
        "from xgboost import XGBClassifier  # Classificateur XGBoost\n",
        "import sklearn_relief as sr  # Sélection de caractéristiques Relief\n",
        "from sklearn.inspection import permutation_importance  # Calcul de l'importance de la permutation\n",
        "import joblib  # Pour sauvegarder les modèles\n",
        "import pandas as pd  # Bibliothèque de manipulation de données\n",
        "import numpy as np  # Bibliothèque de calcul numérique\n",
        "import matplotlib.pyplot as plt  # Bibliothèque de traçage\n",
        "import time  # Pour la mesure du temps\n",
        "import warnings  # Pour supprimer les avertissements\n",
        "\n",
        "warnings.filterwarnings(\"ignore\")  # Ignorer les avertissements\n",
        "\n",
        "# Charger l'ensemble de données\n",
        "dataset = pd.read_csv(\"/content/genetic-AD-NL-2.csv\", index_col=('Id-patient'))\n",
        "classes = dataset['final_diagnosis'].map({'NL': 1, 'AD': 0})  # Mapper les classes NL et AD à 1 et 0\n",
        "data = dataset.iloc[:, 2:]  # Extraire les caractéristiques de l'ensemble de données\n",
        "\n",
        "# Mise à l'échelle des caractéristiques\n",
        "scaler = MinMaxScaler(feature_range=(0, 1))  # Initialiser MinMaxScaler\n",
        "data_scaled = scaler.fit_transform(data)  # Mettre à l'échelle les caractéristiques\n",
        "data_scaled_df = pd.DataFrame(data_scaled, columns=data.columns, index=data.index)  # Convertir les données mises à l'échelle en DataFrame\n",
        "\n",
        "# Définir les classificateurs\n",
        "lr = LogisticRegression(penalty='elasticnet', solver='saga', l1_ratio=0.5)  # Classificateur Régression Logistique avec pénalité elasticnet\n",
        "lda = LinearDiscriminantAnalysis()  # Classificateur Analyse Discriminante Linéaire\n",
        "dtc = DecisionTreeClassifier()  # Classificateur Arbre de Décision\n",
        "svc = SVC(kernel='linear', C=1)  # Classificateur Vecteur de Support avec noyau linéaire\n",
        "rfc = RandomForestClassifier(max_depth=1000, n_estimators=1000, random_state=42)  # Classificateur Forêt Aléatoire\n",
        "rc = RidgeClassifier()  # Classificateur Ridge\n",
        "sgd = SGDClassifier()  # Classificateur Descente de Gradient Stochastique\n",
        "grb = GradientBoostingClassifier()  # Classificateur Gradient Boosting\n",
        "etc = ExtraTreesClassifier()  # Classificateur Extra Trees\n",
        "xgboost = XGBClassifier()  # Classificateur XGBoost\n",
        "\n",
        "# Fonction pour la validation croisée et l'évaluation des performances\n",
        "def cross(estimator, x):\n",
        "    scoring = 'accuracy'  # Métrique de scoring pour l'évaluation\n",
        "    models = [('LogisticRegression', lr), ('SVM', svc), ('RidgeClassifierD', rc), ('SGDClassifier', sgd), ('GaussianNB', GaussianNB())]  # Liste des classificateurs avec leurs noms\n",
        "    results = []  # Liste pour stocker les résultats de la validation croisée\n",
        "    names = []  # Liste pour stocker les noms des classificateurs\n",
        "\n",
        "    # Sélection de caractéristiques\n",
        "    sfm = SelectKBest(score_func=f_classif, k=round(x))  # Sélection de caractéristiques en utilisant la valeur F ANOVA\n",
        "    sfm.fit(data_scaled_df, classes)  # Adapter le modèle de sélection de caractéristiques\n",
        "    X_important_train = sfm.transform(data_scaled_df)  # Transformer les données avec les caractéristiques sélectionnées\n",
        "\n",
        "    for name, model in models:\n",
        "        kfold = StratifiedKFold(n_splits=10, shuffle=True, random_state=None)  # Séparateur de validation croisée Stratified K-Folds\n",
        "        start_time = time.time()  # Temps de début pour mesurer le temps d'exécution\n",
        "        cv_results = cross_val_score(model, X_important_train, classes, cv=kfold, scoring=scoring).mean()  # Validation croisée\n",
        "        results.append(cv_results)  # Ajouter le résultat de la validation croisée\n",
        "        names.append(name)  # Ajouter le nom du classificateur\n",
        "\n",
        "        # Métriques de performance\n",
        "        y_pred = cross_val_predict(model, X_important_train, classes, cv=kfold)  # Étiquettes prédites par validation croisée\n",
        "        tn, fp, fn, tp = confusion_matrix(classes, y_pred).ravel()  # Matrice de confusion\n",
        "        specificity = tn / (tn + fp)  # Calcul de la spécificité\n",
        "        sensitivity = tp / (tp + fn)  # Calcul de la sensibilité\n",
        "        aucc = roc_auc_score(classes, y_pred)  # Surface sous la courbe ROC\n",
        "\n",
        "        # Afficher les métriques de performance\n",
        "        print(f\"{name}\\nPrécision: {100*cv_results:.2f}% ({cv_results.std():.2f})\")\n",
        "        print(f\"Précision: {precision_score(classes, y_pred)*100:.2f}%\")\n",
        "        print(f\"Spécificité: {specificity*100:.2f}%\")\n",
        "        print(f\"Rappel/Sensibilité: {sensitivity*100:.2f}%\")\n",
        "        print(f\"Score F1: {f1_score(classes, y_pred)*100:.2f}%\")\n",
        "        print(f\"AUC: {aucc*100:.2f}%\")\n",
        "        print(f\"--- {time.time() - start_time:.2f} secondes ---\\n\")  # Afficher le temps d'exécution\n",
        "\n",
        "# Mesurer le temps d'exécution de la validation croisée\n",
        "start_time = time.time()\n",
        "cross(lr, 100)\n",
        "print(f\"--- {time.time() - start_time:.2f} Temps-de-toutes-les-opérations ---\")  # Afficher le temps d'exécution total\n"
      ],
      "metadata": {
        "id": "aY8tA1n8MSBe",
        "colab": {
          "base_uri": "https://localhost:8080/"
        },
        "outputId": "a3791da4-c38f-4834-a171-24d05026f75c"
      },
      "execution_count": null,
      "outputs": [
        {
          "output_type": "stream",
          "name": "stdout",
          "text": [
            "LogisticRegression\n",
            "Accuracy: 81.84% (0.00)\n",
            "Precision: 81.41%\n",
            "Specificity: 53.97%\n",
            "Recall/Sensitivity: 94.78%\n",
            "F1 Score: 87.59%\n",
            "AUC: 74.37%\n",
            "--- 0.69 seconds ---\n",
            "\n",
            "SVM\n",
            "Accuracy: 79.13% (0.00)\n",
            "Precision: 84.40%\n",
            "Specificity: 65.08%\n",
            "Recall/Sensitivity: 88.81%\n",
            "F1 Score: 86.55%\n",
            "AUC: 76.94%\n",
            "--- 0.08 seconds ---\n",
            "\n",
            "RidgeClassifierD\n",
            "Accuracy: 82.21% (0.00)\n",
            "Precision: 84.89%\n",
            "Specificity: 66.67%\n",
            "Recall/Sensitivity: 88.06%\n",
            "F1 Score: 86.45%\n",
            "AUC: 77.36%\n",
            "--- 0.30 seconds ---\n",
            "\n",
            "SGDClassifier\n",
            "Accuracy: 79.66% (0.00)\n",
            "Precision: 85.59%\n",
            "Specificity: 73.02%\n",
            "Recall/Sensitivity: 75.37%\n",
            "F1 Score: 80.16%\n",
            "AUC: 74.19%\n",
            "--- 0.14 seconds ---\n",
            "\n",
            "GaussianNB\n",
            "Accuracy: 68.03% (0.00)\n",
            "Precision: 81.48%\n",
            "Specificity: 68.25%\n",
            "Recall/Sensitivity: 65.67%\n",
            "F1 Score: 72.73%\n",
            "AUC: 66.96%\n",
            "--- 0.05 seconds ---\n",
            "\n",
            "--- 2.24 Time-of-all-operation ---\n"
          ]
        }
      ]
    },
    {
      "cell_type": "markdown",
      "source": [
        "# New Section"
      ],
      "metadata": {
        "id": "Lo1p_REzMWm3"
      }
    }
  ]
}